{
 "cells": [
  {
   "cell_type": "code",
   "execution_count": null,
   "metadata": {},
   "outputs": [],
   "source": [
    "import numpy as np # linear algebra\n",
    "import pandas as pd # data processing, CSV file I/O (e.g. pd.read_csv)\n",
    "\n",
    "# Input data files are available in the \"../input/\" directory.\n",
    "# For example, running this (by clicking run or pressing Shift+Enter) will list all files under the input directory\n",
    "\n",
    "# 데이터 시각화용\n",
    "import seaborn as sns\n",
    "import matplotlib.pyplot as plt\n",
    "from wordcloud import WordCloud, STOPWORDS\n",
    "from nltk.corpus import stopwords\n",
    "from nltk.tokenize import word_tokenize \n",
    "from IPython.core.display import display, HTML\n",
    "import plotly.graph_objects as go\n",
    "\n",
    "# 모델\n",
    "from tensorflow.keras.preprocessing.text import Tokenizer\n",
    "from tensorflow.keras.preprocessing.sequence import pad_sequences\n",
    "from tensorflow.keras.layers import Embedding, Dense, Bidirectional\n",
    "from tensorflow.keras.models import Sequential\n",
    "\n",
    "import tensorflow as tf\n",
    "\n",
    "import time \n",
    "\n",
    "from sklearn.model_selection import train_test_split\n",
    "\n",
    "\n",
    "# 정규식 표현\n",
    "import re\n",
    "\n",
    "# Natural Language Tool Kit \n",
    "import nltk  \n",
    "nltk.download('stopwords') # 불용어 : 자연어 처리에 도움이 되지 않는 단어\n",
    "from nltk.corpus import stopwords \n",
    "from nltk.stem.porter import PorterStemmer # 어간추출 : formalize → formal 이렇게 처리해줌\n",
    "from collections import Counter # 단어에 포함된 각 알파멧의 글자 수를 세어주는 파이썬 내장 함수입니다.\n",
    "import cufflinks as cf # cufflinks 는 pandas.DataFrame 형태의 데이터를 plotly 를 이용해 쉽게 시각화할 수 있도록 도와주는 라이브러리이다.\n",
    "cf.go_offline()\n",
    "\n",
    "# wordcloud 한글폰트를 위한 경로\n",
    "fontpath = '../input/maplefont/Maplestory OTF Bold.otf'\n"
   ]
  },
  {
   "cell_type": "code",
   "execution_count": null,
   "metadata": {},
   "outputs": [],
   "source": [
    "data = pd.read_csv(\"../input/nomadcoders-review-dataset/review.csv\", error_bad_lines=False)\n"
   ]
  },
  {
   "cell_type": "code",
   "execution_count": null,
   "metadata": {},
   "outputs": [],
   "source": [
    "data.head()"
   ]
  },
  {
   "cell_type": "code",
   "execution_count": null,
   "metadata": {},
   "outputs": [],
   "source": [
    "data['length'] = data['review_text'].apply(len)\n",
    "# 각각의 길이를 저장해줍니다."
   ]
  },
  {
   "cell_type": "code",
   "execution_count": null,
   "metadata": {},
   "outputs": [],
   "source": [
    "# 텍스트 길이를 비교합니다.\n",
    "\n",
    "data1 = [\n",
    "    go.Box(\n",
    "        y=data['length'],\n",
    "        name='review'\n",
    "    ),\n",
    "]\n",
    "layout = go.Layout(\n",
    "    title = 'Text length in Review'\n",
    ")\n",
    "fig = go.Figure(data=data1, layout=layout)\n",
    "fig.show()"
   ]
  },
  {
   "cell_type": "code",
   "execution_count": null,
   "metadata": {},
   "outputs": [],
   "source": [
    "data.lecture_name.nunique()  # Total of 221 unique keywords\n",
    "# lecture_name 고유값의 갯수\n"
   ]
  },
  {
   "cell_type": "code",
   "execution_count": null,
   "metadata": {},
   "outputs": [],
   "source": [
    "\n",
    "data.lecture_name.value_counts()[:-1].iplot(kind='bar', title='각 강의별 리뷰 숫자', color='red')"
   ]
  },
  {
   "cell_type": "code",
   "execution_count": null,
   "metadata": {},
   "outputs": [],
   "source": [
    "def Plot_world(text):\n",
    "    # Remove stopwords\n",
    "    stopwords = []\n",
    "    values = \"\"\n",
    "    try:\n",
    "        f = open('../input/korean-stopwords/stop_words.txt', 'r')\n",
    "        stopwords_list = f.read().split('\\n')\n",
    "    except IOError:\n",
    "        print('Problem opening file')\n",
    "    finally:\n",
    "        f.close()\n",
    "\n",
    "    stopwords = set(stopwords_list)\n",
    "    # 순서가 없고, 집합안에서는 unique한 값을 가집니다, 중복은 제거됩니다.\n",
    "    \n",
    "    for val in text: \n",
    "\n",
    "        values += val\n",
    "\n",
    "\n",
    "    wordcloud = WordCloud(\n",
    "                    font_path = fontpath,\n",
    "                    width = 5000, height = 4000, \n",
    "                    background_color ='black', \n",
    "                    stopwords = stopwords, \n",
    "                    max_words=150).generate(values) \n",
    "#     max_font_size : 이미지에 넣을 최대 폰트 크기를 지정\n",
    "#     max_words : 이미지에 넣을 최대 word 수를 지정\n",
    "\n",
    "#     plot the WordCloud image                        \n",
    "    plt.figure(figsize = (12, 12), facecolor = 'k', edgecolor = 'k' ) \n",
    "    plt.imshow(wordcloud) \n",
    "    plt.axis(\"off\") \n",
    "    plt.tight_layout(pad = 0) \n",
    "\n",
    "    plt.show() "
   ]
  },
  {
   "cell_type": "code",
   "execution_count": null,
   "metadata": {},
   "outputs": [],
   "source": [
    "text = data.review_text.values\n",
    "\n",
    "Plot_world(text)\n"
   ]
  }
 ],
 "metadata": {
  "kernelspec": {
   "display_name": "Python 3",
   "language": "python",
   "name": "python3"
  },
  "language_info": {
   "codemirror_mode": {
    "name": "ipython",
    "version": 3
   },
   "file_extension": ".py",
   "mimetype": "text/x-python",
   "name": "python",
   "nbconvert_exporter": "python",
   "pygments_lexer": "ipython3",
   "version": "3.7.7"
  }
 },
 "nbformat": 4,
 "nbformat_minor": 4
}
